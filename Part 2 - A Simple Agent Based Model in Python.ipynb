{
 "cells": [
  {
   "attachments": {},
   "cell_type": "markdown",
   "metadata": {},
   "source": [
    "# Part 2: A Simple Agent Based Model In Python\n",
    "\n",
    "\n",
    "## Summary\n",
    "In this second tutorial, we will build our first simple network of agents using the commands in the first notebook.\n",
    "We will create a network of multiple simple agents who interact in random dyads, and simulate changes in the community over multiple interactions. \n",
    "In each interaction, one agent (the producer) produces one of two possible vowel variants according to their existing representations. Then, the second agent (the listener) can either stick to their existing variant, or adapt to the producer by changing their vowel accordingly. The listener's behavior is based on biased \"personalities\": agents can be flexible (adapt to their partner) or stubborn (not adapt).\n",
    "We repeat this process multiple times and see what happens to the variants in the population at large. We will try to answer questions like: Has one of the variants spread to the entire community? Does this depend on the community's size and inital structure? How many stubborn people must be present to prevent (or faciliate?) convergence? etc.\n",
    "\n",
    "-------------- \n",
    "\n",
    "\n",
    "### 1. Setting the network\n",
    "First, let's create lists containing the possible parameters for our agents. We will create a seperate list for the possible vowel representations and possible personalties our agents can have:"
   ]
  },
  {
   "cell_type": "code",
   "execution_count": 1,
   "metadata": {},
   "outputs": [],
   "source": [
    "# Setting the parameters\n",
    "\n",
    "vowels = ['a', 'i']\n",
    "\n",
    "personalities = ['F', 'S'] # F= Flexible, S=Stubborn"
   ]
  },
  {
   "cell_type": "markdown",
   "metadata": {},
   "source": [
    "And let's write a simple function to create agents. An agent is just represented as a list with two values (a vowel and a personality)."
   ]
  },
  {
   "cell_type": "code",
   "execution_count": 2,
   "metadata": {},
   "outputs": [
    {
     "name": "stdout",
     "output_type": "stream",
     "text": [
      "['i', 'F']\n"
     ]
    }
   ],
   "source": [
    "def make_agent(vowel, personality):\n",
    "    return [vowel, personality]\n",
    "\n",
    "# For examaple, we can create a flexible agent with the vowel 'i' using our function\n",
    "\n",
    "agent_one = make_agent(vowels[1], personalities[0])\n",
    "print(agent_one)"
   ]
  },
  {
   "cell_type": "markdown",
   "metadata": {},
   "source": [
    "Now, we can write functions that make populations of N agents (again, in the form of a list):"
   ]
  },
  {
   "cell_type": "code",
   "execution_count": 5,
   "metadata": {},
   "outputs": [
    {
     "name": "stdout",
     "output_type": "stream",
     "text": [
      "[['i', 'F'], ['i', 'F'], ['i', 'F'], ['i', 'F'], ['i', 'F']]\n"
     ]
    }
   ],
   "source": [
    "# Create a function that generates a population of N identical agents with given parameters\n",
    "\n",
    "def make_population_identical(N):\n",
    "    \n",
    "    population = []\n",
    "    \n",
    "    for i in range(N):\n",
    "        \n",
    "        agent = make_agent(vowels[1], personalities[0])\n",
    "        \n",
    "        population.append(agent)\n",
    "\n",
    "    return population\n",
    "\n",
    "\n",
    "# Call the function to make a population of 5 identical agents\n",
    "\n",
    "population_test = make_population_identical(5)\n",
    "print(population_test)"
   ]
  },
  {
   "cell_type": "code",
   "execution_count": 6,
   "metadata": {},
   "outputs": [],
   "source": [
    "# Create a function that generates of population of N agents with randomly selected parameters from each list\n",
    "# using \"random.choice()\"\n",
    "\n",
    "import random\n",
    "\n",
    "def make_population_random(N):\n",
    "    \n",
    "    population = []\n",
    "    \n",
    "    for i in range(N):\n",
    "        \n",
    "        v = random.choice(vowels)\n",
    "        \n",
    "        p = random.choice(personalities)\n",
    "        \n",
    "        agent = make_agent(v, p)\n",
    "        \n",
    "        population.append(agent)\n",
    "\n",
    "    return population"
   ]
  },
  {
   "cell_type": "markdown",
   "metadata": {},
   "source": [
    "You can run the box of code below multiple times to make sure you are really getting random populations:"
   ]
  },
  {
   "cell_type": "code",
   "execution_count": 9,
   "metadata": {},
   "outputs": [
    {
     "name": "stdout",
     "output_type": "stream",
     "text": [
      "[['a', 'F'], ['i', 'F'], ['a', 'F'], ['a', 'S'], ['i', 'F']]\n"
     ]
    }
   ],
   "source": [
    "# Call the function to make a population of 5 random agents\n",
    "population = make_population_random(5)\n",
    "print(population)"
   ]
  },
  {
   "cell_type": "code",
   "execution_count": 11,
   "metadata": {},
   "outputs": [
    {
     "name": "stdout",
     "output_type": "stream",
     "text": [
      "[['a', 'F'], ['a', 'F'], ['a', 'F'], ['a', 'F'], ['a', 'S'], ['i', 'S'], ['a', 'F'], ['a', 'S']]\n"
     ]
    }
   ],
   "source": [
    "# You can achieve the same goal using \"random.int()\" and using the index of the lists of possible parameters\n",
    "\n",
    "def make_population(N):\n",
    "    \n",
    "    population = []\n",
    "    \n",
    "    for i in range(N):\n",
    "        \n",
    "        v = random.randint(0,1)\n",
    "        \n",
    "        p = random.randint(0,1)\n",
    "        \n",
    "        agent = make_agent(vowels[v], personalities[p])\n",
    "        \n",
    "        population.append(agent)\n",
    "\n",
    "    return population\n",
    "\n",
    "# Call the funtion and make a population of 8 random agents\n",
    "# You can play with the numbers to make bigger or smaller populations\n",
    "pop = make_population(8)\n",
    "print(pop)"
   ]
  },
  {
   "cell_type": "code",
   "execution_count": 12,
   "metadata": {},
   "outputs": [],
   "source": [
    "# Create a function that calculates the proportion of agents with the variant 'a' in the population\n",
    "\n",
    "def count(population):\n",
    "    t = 0. # must be a float!     \n",
    "    for agent in population:\n",
    "        if agent[0] == 'a':\n",
    "            t += 1            # The syntax =+ Adds 1 to t (or: t = t + 1)\n",
    "    return t / len(population)"
   ]
  },
  {
   "cell_type": "markdown",
   "metadata": {},
   "source": [
    "For a given population, we can now check how many agents are using each possible vowel variant. This is important, because later we'll also want to see how the proportion of each variant changes over the course of multiple interactions."
   ]
  },
  {
   "cell_type": "markdown",
   "metadata": {},
   "source": [
    "For this, we'll write a function that calculates the proportion of a given vowel in a population:"
   ]
  },
  {
   "cell_type": "code",
   "execution_count": 18,
   "metadata": {},
   "outputs": [
    {
     "name": "stdout",
     "output_type": "stream",
     "text": [
      "The proportion of [a] in the population is 0.6\n"
     ]
    }
   ],
   "source": [
    "# Call the funtion on a population of 20 random agents\n",
    "# You can run this box multiple times to see the proportion in different populations of different sizes\n",
    "\n",
    "prop_a = count(make_population(20))\n",
    "\n",
    "print('The proportion of [a] in the population is', prop_a)"
   ]
  },
  {
   "cell_type": "markdown",
   "metadata": {},
   "source": [
    "### 2. Interaction time!\n",
    "We have a population, and now we want the agents to interact with each other. "
   ]
  },
  {
   "cell_type": "markdown",
   "metadata": {},
   "source": [
    "So first, we need to make a function that randomly selects two agents from the population:"
   ]
  },
  {
   "cell_type": "code",
   "execution_count": 25,
   "metadata": {},
   "outputs": [
    {
     "name": "stdout",
     "output_type": "stream",
     "text": [
      "The population is [['a', 'F'], ['i', 'F'], ['a', 'F'], ['a', 'S'], ['i', 'F']]\n",
      "This is the chosen pair ['i', 'F'] ['a', 'F']\n",
      "The listener is ['i', 'F']\n",
      "The producer is ['a', 'F']\n"
     ]
    }
   ],
   "source": [
    "from numpy.random import choice\n",
    "\n",
    "def choose_pair(population):\n",
    "    i = random.randint(0, len(population) - 1) # phyton counts from 0, so pop(8) is an error\n",
    "    j = random.randint(0, len(population) - 1)\n",
    "    \n",
    "    while i == j:\n",
    "        j = random.randint(0, len(population) - 1) # make sure the same agent is not selected twice\n",
    "        \n",
    "    return population[i], population[j]\n",
    "\n",
    "\n",
    "# And we'll test it to see that really does what we want\n",
    "# You can run this box of code multiple times to make sure you are really getting random pairs\n",
    "\n",
    "pop = make_population(8)\n",
    "listener, producer = choose_pair(pop)\n",
    "\n",
    "print('The population is', population)\n",
    "print('This is the chosen pair', listener, producer)\n",
    "print('The listener is', listener)\n",
    "print('The producer is', producer)"
   ]
  },
  {
   "cell_type": "markdown",
   "metadata": {},
   "source": [
    "Now, let's write a function that makes this pair \"interact\"!"
   ]
  },
  {
   "cell_type": "markdown",
   "metadata": {},
   "source": [
    "If the producer and listener have the same vowel representation, nothing changes. If the agents have different vowels, then the listener's action depends on their prior personality: if they are stubborn, they will not change their vowel; but if they are flexible, they will update their vowel according to the producer."
   ]
  },
  {
   "cell_type": "markdown",
   "metadata": {},
   "source": [
    "So if the listener is flexible and has a different variant than the producer, we want to update the listener's vowel based on the producer's vowel."
   ]
  },
  {
   "cell_type": "markdown",
   "metadata": {},
   "source": [
    "To do this, we'll need to use a function called \"deepcopy\" to make a copy of the producer rather than pointing to the producer itself, because otherwise Python will have these two agents linked togeher forever. This is of course unwanted, since we want to update the listener only once based on a single interaction. Therefore, we'll use function called \"deepcopy\", which basically does what we want except for not linking the actual agents together."
   ]
  },
  {
   "cell_type": "code",
   "execution_count": 26,
   "metadata": {},
   "outputs": [],
   "source": [
    "from copy import deepcopy\n",
    "\n",
    "def interact_test(listener,producer): \n",
    "    \n",
    "    if listener[0] == producer[0]:\n",
    "        return listener # if the listener and producer have the same vowel, no change\n",
    "    else:\n",
    "        if listener[1]=='S':\n",
    "            return listener # if the listener is stubborn, no change\n",
    "        else:\n",
    "            listener[0]=deepcopy(producer[0])\n",
    "            return listener"
   ]
  },
  {
   "cell_type": "markdown",
   "metadata": {},
   "source": [
    "You can check the output of the loop by running the code line below multiple times:"
   ]
  },
  {
   "cell_type": "code",
   "execution_count": 28,
   "metadata": {},
   "outputs": [
    {
     "name": "stdout",
     "output_type": "stream",
     "text": [
      "The listener is ['i', 'F']\n",
      "The producer is ['i', 'S']\n",
      "After ineracting, the listener is ['i', 'F']\n"
     ]
    }
   ],
   "source": [
    "randomlistener, randomproducer = choose_pair(make_population(8))\n",
    "\n",
    "print('The listener is', randomlistener)\n",
    "print('The producer is', randomproducer)\n",
    "\n",
    "updated_listener = interact_test(randomlistener, randomproducer)\n",
    "\n",
    "print('After ineracting, the listener is',updated_listener)"
   ]
  },
  {
   "cell_type": "markdown",
   "metadata": {},
   "source": [
    "So now we have a tested function that updates agents after interaction. Since we don't actually need the function to return the listener as output, we can change it to have no output, only to update the agents if needed:"
   ]
  },
  {
   "cell_type": "code",
   "execution_count": 29,
   "metadata": {},
   "outputs": [],
   "source": [
    "# Create a function that only updates agents using \"pass\" (which means do nothing in Python)\n",
    "\n",
    "def interact(listener,producer): \n",
    "    \n",
    "    if listener[0] == producer[0]:\n",
    "        pass   # do nothing\n",
    "    else:\n",
    "        if listener[1]=='S':\n",
    "            pass\n",
    "        else:\n",
    "            listener[0]=deepcopy(producer[0])"
   ]
  },
  {
   "cell_type": "markdown",
   "metadata": {},
   "source": [
    "Ok, we're almost ready to run some simulations! So far, we've created a a few basic functions: \n",
    "1. Make Agent - creating an agent that has a vowel and a personality\n",
    "2. Make Population - creating a population of agents using the function in (1)\n",
    "3. Count - counting the proportion of agents with the same vowel in the population created by (2)\n",
    "4. Choose Pair - choosing two agents out of the population created in (2)\n",
    "5. Interact - implementing the interaxction between the two agents chosen in (4)"
   ]
  },
  {
   "cell_type": "markdown",
   "metadata": {},
   "source": [
    "Great job! "
   ]
  }
 ],
 "metadata": {
  "kernelspec": {
   "display_name": "Python 3",
   "language": "python",
   "name": "python3"
  },
  "language_info": {
   "codemirror_mode": {
    "name": "ipython",
    "version": 3
   },
   "file_extension": ".py",
   "mimetype": "text/x-python",
   "name": "python",
   "nbconvert_exporter": "python",
   "pygments_lexer": "ipython3",
   "version": "3.11.1"
  }
 },
 "nbformat": 4,
 "nbformat_minor": 2
}
